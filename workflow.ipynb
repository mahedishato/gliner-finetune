{
 "cells": [
  {
   "cell_type": "code",
   "execution_count": 3,
   "metadata": {},
   "outputs": [],
   "source": [
    "from gliner_finetune.convert import convert\n",
    "from gliner_finetune.train import train_model\n",
    "from gliner_finetune.synthetic import generate_data, create_prompt\n",
    "import json"
   ]
  },
  {
   "cell_type": "code",
   "execution_count": 4,
   "metadata": {},
   "outputs": [
    {
     "name": "stdout",
     "output_type": "stream",
     "text": [
      "Given the following JSON data, generate a list of 5 different comprehensive texts. This should only return valid JSON as a list of dictionaries. Do not say anything else. Each description should mimic the structure of the original input:\n",
      "\n",
      "JSON Data:\n",
      "{\n",
      "  \"text\": \"The Alpine Swift primarily consumes flying insects such as wasps, bees, and flies. It captures its prey mid-air while swiftly flying through the alpine skies. It nests in high, rocky mountain crevices where it uses feathers and small sticks to construct a simple yet secure nesting environment.\",\n",
      "  \"generic_plant_food\": [],\n",
      "  \"generic_animal_food\": [\n",
      "    \"flying insects\"\n",
      "  ],\n",
      "  \"plant_food\": [],\n",
      "  \"specific_animal_food\": [\n",
      "    \"wasps\",\n",
      "    \"bees\",\n",
      "    \"flies\"\n",
      "  ],\n",
      "  \"location_nest\": [\n",
      "    \"rocky mountain crevices\"\n",
      "  ],\n",
      "  \"item_nest\": [\n",
      "    \"feathers\",\n",
      "    \"small sticks\"\n",
      "  ]\n",
      "}\n",
      "\n",
      "Generate 5 different examples in JSON format that follow the structure and content of the provided data.\n"
     ]
    }
   ],
   "source": [
    "# Example usage\n",
    "example_data = {\n",
    "    \"text\": \"The Alpine Swift primarily consumes flying insects such as wasps, bees, and flies. It captures its prey mid-air while swiftly flying through the alpine skies. It nests in high, rocky mountain crevices where it uses feathers and small sticks to construct a simple yet secure nesting environment.\",\n",
    "    \"generic_plant_food\": [],\n",
    "    \"generic_animal_food\": [\"flying insects\"],\n",
    "    \"plant_food\": [],\n",
    "    \"specific_animal_food\": [\"wasps\", \"bees\", \"flies\"],\n",
    "    \"location_nest\": [\"rocky mountain crevices\"],\n",
    "    \"item_nest\": [\"feathers\", \"small sticks\"]\n",
    "}\n",
    "\n",
    "# Convert example_data to JSON string\n",
    "json_data = json.dumps(example_data)\n",
    "\n",
    "# Create prompt\n",
    "prompt = create_prompt(json_data)\n",
    "print(prompt)\n"
   ]
  },
  {
   "cell_type": "code",
   "execution_count": 6,
   "metadata": {},
   "outputs": [
    {
     "name": "stdout",
     "output_type": "stream",
     "text": [
      "(['[\\n  {\\n    \"text\": \"The Harpy Eagle predominantly hunts and feeds on tree-dwelling mammals such as sloths and monkeys. It snatches them from the trees while effortlessly soaring across forests. It nests in large trees, employing twigs and large branches to construct a sturdy and large nesting habitat.\",\\n    \"generic_plant_food\": [],\\n    \"generic_animal_food\": [\\n      \"tree-dwelling mammals\"\\n    ],\\n    \"plant_food\": [],\\n    \"specific_animal_food\": [\\n      \"sloths\",\\n      \"monkeys\"\\n    ],\\n    \"location_nest\": [\\n      \"large trees\"\\n    ],\\n    \"item_nest\": [\\n      \"twigs\",\\n      \"large branches\"\\n    ]\\n  },\\n  {\\n    \"text\": \"The Bottlenose Dolphin mostly feeds on a diet of fish and squid. It hunts its prey underwater in ocean environments. Often, they will beach themselves to catch shallow water fish. It resides in open aquatic areas.\",\\n    \"generic_plant_food\": [],\\n    \"generic_animal_food\": [\\n      \"fish\"\\n    ],\\n    \"plant_food\": [],\\n    \"specific_animal_food\": [\\n      \"squid\"\\n    ],\\n    \"location_nest\": [\\n      \"open aquatic areas\"\\n    ],\\n    \"item_nest\": []\\n  },\\n  {\\n    \"text\": \"The Brown Bear has a diverse diet including plants, berries, fish, and small mammals. It finds its meal in the woods where it also dwells. Its den is often in a secluded forest location, made comfortable with leaves and fur.\",\\n    \"generic_plant_food\": [\\n      \"plants\"\\n    ],\\n    \"generic_animal_food\": [\\n      \"fish\"\\n    ],\\n    \"plant_food\": [\\n      \"berries\"\\n    ],\\n    \"specific_animal_food\": [\\n      \"small mammals\"\\n    ],\\n    \"location_nest\": [\\n      \"secluded forest location\"\\n    ],\\n    \"item_nest\": [\\n      \"leaves\",\\n      \"fur\"\\n    ]\\n  },\\n  {\\n    \"text\": \"The Giant Panda primarily consumes bamboo. The bamboo forests of Western China are its main habit and feeding ground. Its burrow is constructed in a quiet and solitary place within the rapacious bamboo forests.\",\\n    \"generic_plant_food\": [\\n      \"bamboo\"\\n    ],\\n    \"generic_animal_food\": [],\\n    \"plant_food\": [\\n      \"bamboo\"\\n    ],\\n    \"specific_animal_food\": [],\\n    \"location_nest\": [\\n      \"bamboo forests\"\\n    ],\\n    \"item_nest\": []\\n  },\\n  {\\n    \"text\": \"The African Elephant is herbivorous and particularly enjoys leaves, twigs, and fruits. Finding its sustenance in forests and savannas, it resides in these large open spaces with its herd. Its home is the open landscapes of Africa.\",\\n    \"generic_plant_food\": [\\n      \"leaves\"\\n    ],\\n    \"generic_animal_food\": [],\\n    \"plant_food\": [\\n      \"twigs\",\\n      \"fruits\"\\n    ],\\n    \"specific_animal_food\": [],\\n    \"location_nest\": [\\n      \"open landscapes\"\\n    ],\\n    \"item_nest\": []\\n  }\\n]', '[\\n  {\\n    \"text\": \"The Atlantic Puffin primarily feeds on small fish such as herring, capelin and sand eels. It captures its prey underwater during fast and agile pursuits. It nests in burrows on steep, coastal cliffs where it uses soft grass and feathers to create a cozy nesting place.\",\\n    \"generic_plant_food\": [],\\n    \"generic_animal_food\": [\"small fish\"],\\n    \"plant_food\": [],\\n    \"specific_animal_food\": [\"herring\", \"capelin\", \"sand eels\"],\\n    \"location_nest\": [\"coastal cliffs\"],\\n    \"item_nest\": [\"soft grass\", \"feathers\"]\\n  },\\n  {\\n    \"text\": \"The White-headed Capuchin primarily eats fruits, nuts, and insects. It captures its food in the dense foliage of the tropical forests. It nests in the trees, using leaves and branches to form a safe sleeping area.\",\\n    \"generic_plant_food\": [\"fruits\", \"nuts\"],\\n    \"generic_animal_food\": [\"insects\"],\\n    \"plant_food\": [],\\n    \"specific_animal_food\": [],\\n    \"location_nest\": [\"trees\"],\\n    \"item_nest\": [\"leaves\", \"branches\"]\\n  },\\n  {\\n    \"text\": \"The Orca Whale primarily consumes marine animals such as seals, squid and fish. It captures its prey in the vast ocean, often hunting in coordinated groups. It rests in the open ocean, without needing to construct a nest.\",\\n    \"generic_plant_food\": [],\\n    \"generic_animal_food\": [\"marine animals\"],\\n    \"plant_food\": [],\\n    \"specific_animal_food\": [\"seals\", \"squid\", \"fish\"],\\n    \"location_nest\": [\"open ocean\"],\\n    \"item_nest\": []\\n  },\\n  {\\n    \"text\": \"The Red Fox primarily eats small mammals such as rabbits, rodents, and birds. It hunts its prey on the ground, using its keen senses and quick reflexes. It dens in underground burrows where it uses gathered grass and leaves to create a warm nest.\",\\n    \"generic_plant_food\": [],\\n    \"generic_animal_food\": [\"small mammals\"],\\n    \"plant_food\": [],\\n    \"specific_animal_food\": [\"rabbits\", \"rodents\", \"birds\"],\\n    \"location_nest\": [\"underground burrows\"],\\n    \"item_nest\": [\"gathered grass\", \"leaves\"]\\n  },\\n  {\\n    \"text\": \"The Barn Owl primarily feeds on small nocturnal creatures such as mice, shrews, and bats. It captures its prey during flight in the night sky. It nests in barns and other man-made structures where it uses straw and feathers to build a safe nest.\",\\n    \"generic_plant_food\": [],\\n    \"generic_animal_food\": [\"nocturnal creatures\"],\\n    \"plant_food\": [],\\n    \"specific_animal_food\": [\"mice\", \"shrews\", \"bats\"],\\n    \"location_nest\": [\"barns\"],\\n    \"item_nest\": [\"straw\", \"feathers\"]\\n  }\\n]', '[\\n  {\\n    \"text\": \"The Arctic Tern feeds mostly on small fish and shrimp. It hunts its meal skimming over the icy waters. Its nest is a simple depression in the ground on a high cliff, lightly covered with plant material and small pebbles.\",\\n    \"generic_plant_food\": [],\\n    \"generic_animal_food\": [\\n      \"small fish and shrimp\"\\n    ],\\n    \"plant_food\": [],\\n    \"specific_animal_food\": [\\n      \"small fish\",\\n      \"shrimp\"\\n    ],\\n    \"location_nest\": [\\n      \"high cliff ground\"\\n    ],\\n    \"item_nest\": [\\n      \"plant material\",\\n      \"small pebbles\"\\n    ]\\n  },\\n  {\\n    \"text\": \"The African Elephant mainly feeds on leaves, bark, and fruits. It forages for its food in the wild African grasslands. It\\'s home is a loose collection of plants and trees, providing shade and protection from predators.\",\\n    \"generic_plant_food\": [\\n      \"leaves\",\\n      \"bark\",\\n      \"fruits\"\\n    ],\\n    \"generic_animal_food\": [],\\n    \"plant_food\": [\\n      \"leaves\",\\n      \"bark\",\\n      \"fruits\"\\n    ],\\n    \"specific_animal_food\": [],\\n    \"location_nest\": [\\n      \"African grasslands\"\\n    ],\\n    \"item_nest\": [\\n      \"plants\",\\n      \"trees\"\\n    ]\\n  },\\n  {\\n    \"text\": \"The Brown Bear is omnivorous with a diet consisting of berries, fish, and small mammals. It hunts and forages in the wild forests and along river banks. It makes its home in a den dug out in the earth, using fallen leaves and bracken as bedding material.\",\\n    \"generic_plant_food\": [\\n      \"berries\"\\n    ],\\n    \"generic_animal_food\": [\\n      \"fish\",\\n      \"small mammals\"\\n    ],\\n    \"plant_food\": [\\n      \"berries\"\\n    ],\\n    \"specific_animal_food\": [\\n      \"fish\",\\n      \"small mammals\"\\n    ],\\n    \"location_nest\": [\\n      \"forest ground\"\\n    ],\\n    \"item_nest\": [\\n      \"fallen leaves\",\\n      \"bracken\"\\n    ]\\n  },\\n  {\\n    \"text\": \"The Common Loon feeds mainly on fish, which it captures diving underwater in lakes and oceans. Its nest is a simple structure made of reeds, located on isolated islands or lake shores.\",\\n    \"generic_plant_food\": [],\\n    \"generic_animal_food\": [\\n      \"fish\"\\n    ],\\n    \"plant_food\": [],\\n    \"specific_animal_food\": [\\n      \"fish\"\\n    ],\\n    \"location_nest\": [\\n      \"isolated islands\",\\n      \"lake shores\"\\n    ],\\n    \"item_nest\": [\\n      \"reeds\"\\n    ]\\n  },\\n  {\\n    \"text\": \"The Red Panda consumes mostly bamboo, but also enjoys eggs, birds, and insects. It captures its food in the bamboo forests of the Himalayan mountains. It makes its nest in hollow tree trunks, using moss for bedding.\",\\n    \"generic_plant_food\": [\\n      \"bamboo\"\\n    ],\\n    \"generic_animal_food\": [\\n      \"eggs\",\\n      \"birds\",\\n      \"insects\"\\n    ],\\n    \"plant_food\": [\\n      \"bamboo\"\\n    ],\\n    \"specific_animal_food\": [\\n      \"eggs\",\\n      \"birds\",\\n      \"insects\"\\n    ],\\n    \"location_nest\": [\\n      \"hollow tree trunks\"\\n    ],\\n    \"item_nest\": [\\n      \"moss\"\\n    ]\\n  }\\n]'], [[{'text': 'The Harpy Eagle predominantly hunts and feeds on tree-dwelling mammals such as sloths and monkeys. It snatches them from the trees while effortlessly soaring across forests. It nests in large trees, employing twigs and large branches to construct a sturdy and large nesting habitat.', 'generic_plant_food': [], 'generic_animal_food': ['tree-dwelling mammals'], 'plant_food': [], 'specific_animal_food': ['sloths', 'monkeys'], 'location_nest': ['large trees'], 'item_nest': ['twigs', 'large branches']}, {'text': 'The Bottlenose Dolphin mostly feeds on a diet of fish and squid. It hunts its prey underwater in ocean environments. Often, they will beach themselves to catch shallow water fish. It resides in open aquatic areas.', 'generic_plant_food': [], 'generic_animal_food': ['fish'], 'plant_food': [], 'specific_animal_food': ['squid'], 'location_nest': ['open aquatic areas'], 'item_nest': []}, {'text': 'The Brown Bear has a diverse diet including plants, berries, fish, and small mammals. It finds its meal in the woods where it also dwells. Its den is often in a secluded forest location, made comfortable with leaves and fur.', 'generic_plant_food': ['plants'], 'generic_animal_food': ['fish'], 'plant_food': ['berries'], 'specific_animal_food': ['small mammals'], 'location_nest': ['secluded forest location'], 'item_nest': ['leaves', 'fur']}, {'text': 'The Giant Panda primarily consumes bamboo. The bamboo forests of Western China are its main habit and feeding ground. Its burrow is constructed in a quiet and solitary place within the rapacious bamboo forests.', 'generic_plant_food': ['bamboo'], 'generic_animal_food': [], 'plant_food': ['bamboo'], 'specific_animal_food': [], 'location_nest': ['bamboo forests'], 'item_nest': []}, {'text': 'The African Elephant is herbivorous and particularly enjoys leaves, twigs, and fruits. Finding its sustenance in forests and savannas, it resides in these large open spaces with its herd. Its home is the open landscapes of Africa.', 'generic_plant_food': ['leaves'], 'generic_animal_food': [], 'plant_food': ['twigs', 'fruits'], 'specific_animal_food': [], 'location_nest': ['open landscapes'], 'item_nest': []}], [{'text': 'The Atlantic Puffin primarily feeds on small fish such as herring, capelin and sand eels. It captures its prey underwater during fast and agile pursuits. It nests in burrows on steep, coastal cliffs where it uses soft grass and feathers to create a cozy nesting place.', 'generic_plant_food': [], 'generic_animal_food': ['small fish'], 'plant_food': [], 'specific_animal_food': ['herring', 'capelin', 'sand eels'], 'location_nest': ['coastal cliffs'], 'item_nest': ['soft grass', 'feathers']}, {'text': 'The White-headed Capuchin primarily eats fruits, nuts, and insects. It captures its food in the dense foliage of the tropical forests. It nests in the trees, using leaves and branches to form a safe sleeping area.', 'generic_plant_food': ['fruits', 'nuts'], 'generic_animal_food': ['insects'], 'plant_food': [], 'specific_animal_food': [], 'location_nest': ['trees'], 'item_nest': ['leaves', 'branches']}, {'text': 'The Orca Whale primarily consumes marine animals such as seals, squid and fish. It captures its prey in the vast ocean, often hunting in coordinated groups. It rests in the open ocean, without needing to construct a nest.', 'generic_plant_food': [], 'generic_animal_food': ['marine animals'], 'plant_food': [], 'specific_animal_food': ['seals', 'squid', 'fish'], 'location_nest': ['open ocean'], 'item_nest': []}, {'text': 'The Red Fox primarily eats small mammals such as rabbits, rodents, and birds. It hunts its prey on the ground, using its keen senses and quick reflexes. It dens in underground burrows where it uses gathered grass and leaves to create a warm nest.', 'generic_plant_food': [], 'generic_animal_food': ['small mammals'], 'plant_food': [], 'specific_animal_food': ['rabbits', 'rodents', 'birds'], 'location_nest': ['underground burrows'], 'item_nest': ['gathered grass', 'leaves']}, {'text': 'The Barn Owl primarily feeds on small nocturnal creatures such as mice, shrews, and bats. It captures its prey during flight in the night sky. It nests in barns and other man-made structures where it uses straw and feathers to build a safe nest.', 'generic_plant_food': [], 'generic_animal_food': ['nocturnal creatures'], 'plant_food': [], 'specific_animal_food': ['mice', 'shrews', 'bats'], 'location_nest': ['barns'], 'item_nest': ['straw', 'feathers']}], [{'text': 'The Arctic Tern feeds mostly on small fish and shrimp. It hunts its meal skimming over the icy waters. Its nest is a simple depression in the ground on a high cliff, lightly covered with plant material and small pebbles.', 'generic_plant_food': [], 'generic_animal_food': ['small fish and shrimp'], 'plant_food': [], 'specific_animal_food': ['small fish', 'shrimp'], 'location_nest': ['high cliff ground'], 'item_nest': ['plant material', 'small pebbles']}, {'text': \"The African Elephant mainly feeds on leaves, bark, and fruits. It forages for its food in the wild African grasslands. It's home is a loose collection of plants and trees, providing shade and protection from predators.\", 'generic_plant_food': ['leaves', 'bark', 'fruits'], 'generic_animal_food': [], 'plant_food': ['leaves', 'bark', 'fruits'], 'specific_animal_food': [], 'location_nest': ['African grasslands'], 'item_nest': ['plants', 'trees']}, {'text': 'The Brown Bear is omnivorous with a diet consisting of berries, fish, and small mammals. It hunts and forages in the wild forests and along river banks. It makes its home in a den dug out in the earth, using fallen leaves and bracken as bedding material.', 'generic_plant_food': ['berries'], 'generic_animal_food': ['fish', 'small mammals'], 'plant_food': ['berries'], 'specific_animal_food': ['fish', 'small mammals'], 'location_nest': ['forest ground'], 'item_nest': ['fallen leaves', 'bracken']}, {'text': 'The Common Loon feeds mainly on fish, which it captures diving underwater in lakes and oceans. Its nest is a simple structure made of reeds, located on isolated islands or lake shores.', 'generic_plant_food': [], 'generic_animal_food': ['fish'], 'plant_food': [], 'specific_animal_food': ['fish'], 'location_nest': ['isolated islands', 'lake shores'], 'item_nest': ['reeds']}, {'text': 'The Red Panda consumes mostly bamboo, but also enjoys eggs, birds, and insects. It captures its food in the bamboo forests of the Himalayan mountains. It makes its nest in hollow tree trunks, using moss for bedding.', 'generic_plant_food': ['bamboo'], 'generic_animal_food': ['eggs', 'birds', 'insects'], 'plant_food': ['bamboo'], 'specific_animal_food': ['eggs', 'birds', 'insects'], 'location_nest': ['hollow tree trunks'], 'item_nest': ['moss']}]])\n"
     ]
    }
   ],
   "source": [
    "num_calls = 3  # Number of times the user wants to send the prompt\n",
    "results = generate_data(json_data, num_calls)\n",
    "print(results)"
   ]
  },
  {
   "cell_type": "code",
   "execution_count": 12,
   "metadata": {},
   "outputs": [
    {
     "data": {
      "text/plain": [
       "2"
      ]
     },
     "execution_count": 12,
     "metadata": {},
     "output_type": "execute_result"
    }
   ],
   "source": []
  },
  {
   "cell_type": "code",
   "execution_count": 10,
   "metadata": {},
   "outputs": [
    {
     "name": "stdout",
     "output_type": "stream",
     "text": [
      "Data saved to assets/train.json\n",
      "Data saved to assets/eval.json\n"
     ]
    }
   ],
   "source": [
    "with open('synthetic_data/20240413043952_parsed_responses.json', 'r') as file:\n",
    "    data = json.load(file)\n",
    "\n",
    "final_data = []\n",
    "\n",
    "for item in data:\n",
    "    for sample in item:\n",
    "        final_data.append(sample)\n",
    "\n",
    "# Convert data\n",
    "training_data = convert(final_data, project_path='', train_split=0.8, eval_split=0.2, test_split=0.0,\n",
    "                        train_file='train.json', eval_file='eval.json', test_file='test.json', overwrite=True)"
   ]
  },
  {
   "cell_type": "code",
   "execution_count": 11,
   "metadata": {},
   "outputs": [
    {
     "name": "stderr",
     "output_type": "stream",
     "text": [
      "/Applications/anaconda3/envs/gliner-spacy/lib/python3.10/site-packages/transformers/convert_slow_tokenizer.py:550: UserWarning: The sentencepiece tokenizer that you are converting to a fast tokenizer uses the byte fallback option which is not implemented in the fast tokenizers. In practice this means that the fast version of the tokenizer can produce unknown tokens whereas the sentencepiece version would have converted these unknown tokens into a sequence of byte tokens matching the original piece of text.\n",
      "  warnings.warn(\n",
      "step: 9 | epoch: 4 | loss: 16.92:  90%|█████████ | 9/10 [00:06<00:00,  1.58it/s] "
     ]
    },
    {
     "name": "stdout",
     "output_type": "stream",
     "text": [
      "Step=9\n",
      "P: 55.56%\tR: 26.32%\tF1: 35.71%\n",
      "\n"
     ]
    },
    {
     "name": "stderr",
     "output_type": "stream",
     "text": [
      "step: 9 | epoch: 4 | loss: 16.92: 100%|██████████| 10/10 [00:06<00:00,  1.43it/s]\n"
     ]
    }
   ],
   "source": [
    "train_model(model=\"urchade/gliner_small-v2.1\", train_data=\"assets/train.json\", \n",
    "            eval_data=\"assets/eval.json\", project=\"\")"
   ]
  },
  {
   "cell_type": "code",
   "execution_count": 13,
   "metadata": {},
   "outputs": [
    {
     "data": {
      "text/plain": [
       "15"
      ]
     },
     "execution_count": 13,
     "metadata": {},
     "output_type": "execute_result"
    }
   ],
   "source": [
    "len(final_data)"
   ]
  },
  {
   "cell_type": "code",
   "execution_count": 14,
   "metadata": {},
   "outputs": [
    {
     "data": {
      "text/plain": [
       "{'text': 'The Harpy Eagle predominantly hunts and feeds on tree-dwelling mammals such as sloths and monkeys. It snatches them from the trees while effortlessly soaring across forests. It nests in large trees, employing twigs and large branches to construct a sturdy and large nesting habitat.',\n",
       " 'generic_plant_food': [],\n",
       " 'generic_animal_food': ['tree-dwelling mammals'],\n",
       " 'plant_food': [],\n",
       " 'specific_animal_food': ['sloths', 'monkeys'],\n",
       " 'location_nest': ['large trees'],\n",
       " 'item_nest': ['twigs', 'large branches']}"
      ]
     },
     "execution_count": 14,
     "metadata": {},
     "output_type": "execute_result"
    }
   ],
   "source": [
    "final_data[0]"
   ]
  },
  {
   "cell_type": "code",
   "execution_count": null,
   "metadata": {},
   "outputs": [],
   "source": []
  }
 ],
 "metadata": {
  "kernelspec": {
   "display_name": "gliner-spacy",
   "language": "python",
   "name": "python3"
  },
  "language_info": {
   "codemirror_mode": {
    "name": "ipython",
    "version": 3
   },
   "file_extension": ".py",
   "mimetype": "text/x-python",
   "name": "python",
   "nbconvert_exporter": "python",
   "pygments_lexer": "ipython3",
   "version": "3.10.13"
  }
 },
 "nbformat": 4,
 "nbformat_minor": 2
}
