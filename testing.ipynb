{
 "cells": [
  {
   "cell_type": "code",
   "execution_count": 1,
   "metadata": {},
   "outputs": [
    {
     "name": "stderr",
     "output_type": "stream",
     "text": [
      "/Applications/anaconda3/envs/gliner-spacy/lib/python3.10/site-packages/tqdm/auto.py:21: TqdmWarning: IProgress not found. Please update jupyter and ipywidgets. See https://ipywidgets.readthedocs.io/en/stable/user_install.html\n",
      "  from .autonotebook import tqdm as notebook_tqdm\n"
     ]
    }
   ],
   "source": [
    "from gliner_finetune.convert import convert\n",
    "from gliner_finetune.train import train_model\n",
    "import json"
   ]
  },
  {
   "cell_type": "code",
   "execution_count": 2,
   "metadata": {},
   "outputs": [
    {
     "name": "stdout",
     "output_type": "stream",
     "text": [
      "Data saved to assets/train.json\n",
      "Data saved to assets/eval.json\n"
     ]
    }
   ],
   "source": [
    "# Load your data\n",
    "with open('bird-original.json', 'r') as file:\n",
    "    data = json.load(file)\n",
    "\n",
    "# Convert data\n",
    "training_data = convert(data, project_path='', train_split=0.8, eval_split=0.2, test_split=0.0,\n",
    "                        train_file='train.json', eval_file='eval.json', test_file='test.json', overwrite=True)"
   ]
  },
  {
   "cell_type": "code",
   "execution_count": 3,
   "metadata": {},
   "outputs": [
    {
     "name": "stderr",
     "output_type": "stream",
     "text": [
      "/Applications/anaconda3/envs/gliner-spacy/lib/python3.10/site-packages/transformers/convert_slow_tokenizer.py:550: UserWarning: The sentencepiece tokenizer that you are converting to a fast tokenizer uses the byte fallback option which is not implemented in the fast tokenizers. In practice this means that the fast version of the tokenizer can produce unknown tokens whereas the sentencepiece version would have converted these unknown tokens into a sequence of byte tokens matching the original piece of text.\n",
      "  warnings.warn(\n",
      "step: 9 | epoch: 1 | loss: 130.55:  90%|█████████ | 9/10 [00:08<00:00,  1.15it/s]"
     ]
    },
    {
     "name": "stdout",
     "output_type": "stream",
     "text": [
      "Step=9\n",
      "P: 54.72%\tR: 32.22%\tF1: 40.56%\n",
      "\n"
     ]
    },
    {
     "name": "stderr",
     "output_type": "stream",
     "text": [
      "step: 9 | epoch: 1 | loss: 130.55: 100%|██████████| 10/10 [00:09<00:00,  1.01it/s]\n"
     ]
    }
   ],
   "source": [
    "train_model(model=\"urchade/gliner_small-v2.1\", train_data=\"assets/train.json\", \n",
    "            eval_data=\"assets/eval.json\", project=\"\")"
   ]
  },
  {
   "cell_type": "code",
   "execution_count": 5,
   "metadata": {},
   "outputs": [
    {
     "name": "stdout",
     "output_type": "stream",
     "text": [
      "Given the following JSON data, generate a list of 5 different comprehensive texts. This should only return valid JSON as a list of dictionaries. Do not say anything else. Each description should mimic the structure of the original input:\n",
      "\n",
      "JSON Data:\n",
      "{\n",
      "  \"text\": \"The Alpine Swift primarily consumes flying insects such as wasps, bees, and flies. It captures its prey mid-air while swiftly flying through the alpine skies. It nests in high, rocky mountain crevices where it uses feathers and small sticks to construct a simple yet secure nesting environment.\",\n",
      "  \"generic_plant_food\": [],\n",
      "  \"generic_animal_food\": [\n",
      "    \"flying insects\"\n",
      "  ],\n",
      "  \"plant_food\": [],\n",
      "  \"specific_animal_food\": [\n",
      "    \"wasps\",\n",
      "    \"bees\",\n",
      "    \"flies\"\n",
      "  ],\n",
      "  \"location_nest\": [\n",
      "    \"rocky mountain crevices\"\n",
      "  ],\n",
      "  \"item_nest\": [\n",
      "    \"feathers\",\n",
      "    \"small sticks\"\n",
      "  ]\n",
      "}\n",
      "\n",
      "Generate 5 different examples in JSON format that follow the structure and content of the provided data.\n"
     ]
    }
   ],
   "source": [
    "import json\n",
    "\n",
    "def create_prompt(json_data):\n",
    "    \"\"\"\n",
    "    Generate a prompt from a JSON string to guide the AI in generating a specific type of output.\n",
    "    This function assumes the JSON string represents a structured description of an object.\n",
    "\n",
    "    :param json_data: A JSON string containing structured data about an object.\n",
    "    :return: A string that is a well-formed prompt for the AI.\n",
    "    \"\"\"\n",
    "    try:\n",
    "        data = json.loads(json_data)\n",
    "    except json.JSONDecodeError:\n",
    "        raise ValueError(\"Invalid JSON data provided.\")\n",
    "\n",
    "    # Construct the initial part of the prompt\n",
    "    prompt = \"Given the following JSON data, generate a list of 5 different comprehensive texts. This should only return valid JSON as a list of dictionaries. Do not say anything else. Each description should mimic the structure of the original input:\\n\\n\"\n",
    "\n",
    "    # Append the JSON data as a string directly into the prompt\n",
    "    prompt += \"JSON Data:\\n\" + json.dumps(data, indent=2) + \"\\n\"\n",
    "\n",
    "    # Instruct the AI to generate 5 different examples based on the data\n",
    "    prompt += \"\\nGenerate 5 different examples in JSON format that follow the structure and content of the provided data.\"\n",
    "\n",
    "    return prompt\n",
    "\n",
    "# Example usage\n",
    "example_data = {\n",
    "    \"text\": \"The Alpine Swift primarily consumes flying insects such as wasps, bees, and flies. It captures its prey mid-air while swiftly flying through the alpine skies. It nests in high, rocky mountain crevices where it uses feathers and small sticks to construct a simple yet secure nesting environment.\",\n",
    "    \"generic_plant_food\": [],\n",
    "    \"generic_animal_food\": [\"flying insects\"],\n",
    "    \"plant_food\": [],\n",
    "    \"specific_animal_food\": [\"wasps\", \"bees\", \"flies\"],\n",
    "    \"location_nest\": [\"rocky mountain crevices\"],\n",
    "    \"item_nest\": [\"feathers\", \"small sticks\"]\n",
    "}\n",
    "\n",
    "# Convert example_data to JSON string\n",
    "json_data = json.dumps(example_data)\n",
    "\n",
    "# Create prompt\n",
    "prompt = create_prompt(json_data)\n",
    "print(prompt)\n"
   ]
  },
  {
   "cell_type": "code",
   "execution_count": 34,
   "metadata": {},
   "outputs": [
    {
     "name": "stdout",
     "output_type": "stream",
     "text": [
      "(['[\\n  {\\n    \"text\": \"The Red Fox primarily feeds on small mammals such as rabbits, squirrels, and rats. It hunts its prey on the ground, using its keen senses and speed. It makes its home in burrows, where it uses leaves and plant fibres to create a cozy and safe environment.\",\\n    \"generic_plant_food\": [],\\n    \"generic_animal_food\": [\\n      \"small mammals\"\\n    ],\\n    \"plant_food\": [],\\n    \"specific_animal_food\": [\\n      \"rabbits\",\\n      \"squirrels\",\\n      \"rats\"\\n    ],\\n    \"location_nest\": [\\n      \"burrows\"\\n    ],\\n    \"item_nest\": [\\n      \"leaves\",\\n      \"plant fibres\"\\n    ]\\n  },\\n  {\\n    \"text\": \"The Kodiak Bear primarily feeds on huge mammals like elks or deer and also catches salmon in mid-air during water runoffs. It uses its robust claws to capture its prey and also to dig burrows in the woodland or mountain terrains for nesting, lined with grass for a comfortable habitat.\",\\n    \"generic_plant_food\": [],\\n    \"generic_animal_food\": [\\n      \"huge mammals\"\\n    ],\\n    \"plant_food\": [],\\n    \"specific_animal_food\": [\\n      \"elks\",\\n      \"deer\",\\n      \"salmon\"\\n    ],\\n    \"location_nest\": [\\n      \"woodland or mountain terrains\"\\n    ],\\n    \"item_nest\": [\\n      \"grass\"\\n    ]\\n  },\\n  {\\n    \"text\": \"The Peregrine Falcon primarily feeds on birds such as pigeons, ducks, and bats. It aggressively chases its prey mid-flight, showcasing its adept hunting skills. It nests on cliffs and tall urban structures, using a lined scrape filled with a minimalistic array of gravel and dirt.\",\\n    \"generic_plant_food\": [],\\n    \"generic_animal_food\": [\\n      \"birds\"\\n    ],\\n    \"plant_food\": [],\\n    \"specific_animal_food\": [\\n      \"pigeons\",\\n      \"ducks\",\\n      \"bats\"\\n    ],\\n    \"location_nest\": [\\n      \"cliffs\",\\n      \"tall urban structures\"\\n    ],\\n    \"item_nest\": [\\n      \"gravel\",\\n      \"dirt\"\\n    ]\\n  },\\n  {\\n    \"text\": \"The Brown Hyena primarily consumes meat such as that of antelopes, gazelles, and small rodents. It is a scavenger, often feeding on the remains left by other predators. It finds shelter in caves, which it lines with grass and reeds to secure a safe and comfortable living area.\",\\n    \"generic_plant_food\": [],\\n    \"generic_animal_food\": [\\n      \"meat\"\\n    ],\\n    \"plant_food\": [],\\n    \"specific_animal_food\": [\\n      \"antelopes\",\\n      \"gazelles\",\\n      \"small rodents\"\\n    ],\\n    \"location_nest\": [\\n      \"caves\"\\n    ],\\n    \"item_nest\": [\\n      \"grass\",\\n      \"reeds\"\\n    ]\\n  },\\n  {\\n    \"text\": \"The Green Sea Turtle is an omnivorous creature, primarily indulging in sea grass and algae, but also feasting on jellyfish and small invertebrates when opportunity arises. Fond of the open ocean, these turtles lay their eggs on sandy beaches, carefully hidden within the sand to protect their young.\",\\n    \"generic_plant_food\": [\\n      \"sea grass\",\\n      \"algae\"\\n    ],\\n    \"generic_animal_food\": [\\n      \"jellyfish\",\\n      \"small invertebrates\"\\n    ],\\n    \"plant_food\": [\\n      \"sea grass\",\\n      \"algae\"\\n    ],\\n    \"specific_animal_food\": [\\n      \"jellyfish\",\\n      \"small invertebrates\"\\n    ],\\n    \"location_nest\": [\\n      \"sandy beaches\"\\n    ],\\n    \"item_nest\": [\\n      \"sand\"\\n    ]\\n  }\\n]', '[\\n  {\\n    \"text\": \"The Arctic Fox feeds on small mammals like lemmings, hares and birds. It captures its meal through precise and quick hunting. Its den is primarily situated in the cold tundra, making a secure home by using fur and bedding.\",\\n    \"generic_plant_food\": [],\\n    \"generic_animal_food\": [\\n      \"small mammals\"\\n    ],\\n    \"plant_food\": [],\\n    \"specific_animal_food\": [\\n      \"lemmings\",\\n      \"hares\",\\n      \"birds\"\\n    ],\\n    \"location_nest\": [\\n      \"cold tundra\"\\n    ],\\n    \"item_nest\": [\\n      \"fur\",\\n      \"bedding\"\\n    ]\\n  },\\n  {\\n    \"text\": \"The Sea Otter primarily has a diet of aquatic invertebrates such as sea urchins, crabs, and clams. It usually forages at the sea floor while swiftly swimming. Its home is made in kelp forests where it uses kelp strands and marine vegetation to create a safe shelter.\",\\n    \"generic_plant_food\": [],\\n    \"generic_animal_food\": [\\n      \"aquatic invertebrates\"\\n    ],\\n    \"plant_food\": [],\\n    \"specific_animal_food\": [\\n      \"sea urchins\",\\n      \"crabs\",\\n      \"clams\"\\n    ],\\n    \"location_nest\": [\\n      \"kelp forests\"\\n    ],\\n    \"item_nest\": [\\n      \"kelp strands\",\\n      \"marine vegetation\"\\n    ]\\n   },\\n  {\\n    \"text\": \"The Desert Lizard primarily feeds on arthropods such as spiders, scorpions, and beetles. It hunts its food while swiftly skittering across the desert sands. It nests in burrows in the desert where it uses sand and small rocks to create a secure dwelling.\",\\n    \"generic_plant_food\": [],\\n    \"generic_animal_food\": [\\n      \"arthropods\"\\n    ],\\n    \"plant_food\": [],\\n    \"specific_animal_food\": [\\n      \"spiders\",\\n      \"scorpions\",\\n      \"beetles\"\\n    ],\\n    \"location_nest\": [\\n      \"desert burrows\"\\n    ],\\n    \"item_nest\": [\\n      \"sand\",\\n      \"small rocks\"\\n    ]\\n  },\\n  {\\n    \"text\": \"The Snowy Owl primarily feeds on rodents such as lemmings, voles, and mice. It catches its prey mid-flight while nimbly flying through the brisk skies. The nest is located in high, icy plains where it uses feathers and plant material for a snug nest.\",\\n    \"generic_plant_food\": [],\\n    \"generic_animal_food\": [\\n      \"rodents\"\\n    ],\\n    \"plant_food\": [],\\n    \"specific_animal_food\": [\\n      \"lemmings\",\\n      \"voles\",\\n      \"mice\"\\n    ],\\n    \"location_nest\": [\\n      \"icy plains\"\\n    ],\\n    \"item_nest\": [\\n      \"feathers\",\\n      \"plant material\"\\n    ]\\n  },\\n  {\\n    \"text\": \"The Beach Kangaroo primarily consumes sea vegetables such as kelp, algae, and sea grapes. It searches for its food while hopping along the coastal areas. It sets its home in sand dunes where it uses beach grass and driftwood to make a cozy shelter.\",\\n    \"generic_plant_food\": [\\n      \"sea vegetables\"\\n    ],\\n    \"generic_animal_food\": [],\\n    \"plant_food\": [\\n      \"kelp\",\\n      \"algae\",\\n      \"sea grapes\"\\n    ],\\n    \"specific_animal_food\": [],\\n    \"location_nest\": [\\n      \"sand dunes\"\\n    ],\\n    \"item_nest\": [\\n      \"beach grass\",\\n      \"driftwood\"\\n    ]\\n  }\\n]', '[\\n  {\\n    \"text\": \"The Green Sea Turtle thrives on a diet of primarily seagrass, algae, and other marine plant life. They hunt for food in shallow ocean waters and coral reefs. Its nesting sites are typically found on secluded sandy beaches, where it uses its flippers to dig a hole and lay its eggs.\",\\n    \"generic_plant_food\": [\\n      \"marine plant life\"\\n    ],\\n    \"generic_animal_food\": [],\\n    \"plant_food\": [\\n      \"seagrass\",\\n      \"algae\"\\n    ],\\n    \"specific_animal_food\": [],\\n    \"location_nest\": [\\n      \"sandy beaches\"\\n    ],\\n    \"item_nest\": [\\n      \"sand\"\\n    ]\\n  },\\n  {\\n    \"text\": \"The Crimson Rosella mainly feeds on fruits, seeds, and berries from a variety of plants. They catch their food whilst perched in the tall trees of the Australian bush. They create a cozy nesting cavity in a tree trunk, using a mixture of wood chips and soil.\",\\n    \"generic_plant_food\": [\\n      \"fruits\",\\n      \"seeds\",\\n      \"berries\"\\n    ],\\n    \"generic_animal_food\": [],\\n    \"plant_food\": [\\n      \"gum tree seeds\",\\n      \"berry fruits\"\\n    ],\\n    \"specific_animal_food\": [],\\n    \"location_nest\": [\\n      \"tree trunk\"\\n    ],\\n    \"item_nest\": [\\n      \"wood chips\",\\n      \"soil\"\\n    ]\\n  },\\n  {\\n    \"text\": \"The Cape Porcupine predominantly consumes roots, tubers, and bark found underground. They excavate their food in the arid regions of Southern Africa. Using sticks, rocks, and other debris, they construct a burrow in sandy soil where it spends its time when not foraging.\",\\n    \"generic_plant_food\": [\\n      \"roots\",\\n      \"tubers\",\\n      \"bark\"\\n    ],\\n    \"generic_animal_food\": [],\\n    \"plant_food\": [\\n      \"acacia roots\",\\n      \"succulent tubers\",\\n      \"baobab bark\"\\n    ],\\n    \"specific_animal_food\": [],\\n    \"location_nest\": [\\n      \"sandy soil\"\\n    ],\\n    \"item_nest\": [\\n      \"sticks\",\\n      \"rocks\",\\n      \"debris\"\\n    ]\\n  },\\n  {\\n    \"text\": \"The Cheetah feeds primarily on small to medium-sized mammals such as gazelles and antelopes. It hunts its prey in the grasslands of Africa. Utilizing a den in an area of dense vegetation, it surrounds its nest with leaves and grass for safety and comfort.\",\\n    \"generic_plant_food\": [],\\n    \"generic_animal_food\": [\\n      \"medium-sized mammals\"\\n    ],\\n    \"plant_food\": [],\\n    \"specific_animal_food\": [\\n      \"gazelles\",\\n      \"antelopes\"\\n    ],\\n    \"location_nest\": [\\n      \"dense vegetation\"\\n    ],\\n    \"item_nest\": [\\n      \"leaves\",\\n      \"grass\"\\n    ]\\n  },\\n  {\\n    \"text\": \"The Emperor Penguin feeds on a variety of marine life, such as fish, squid, and crustaceans, which it hunts in the frigid Antarctic waters. It nests on the ice, using its body heat and close-knit colonies to incubate their single egg.\",\\n    \"generic_plant_food\": [],\\n    \"generic_animal_food\": [\\n      \"marine life\"\\n    ],\\n    \"plant_food\": [],\\n    \"specific_animal_food\": [\\n      \"fish\",\\n      \"squid\",\\n      \"crustaceans\"\\n    ],\\n    \"location_nest\": [\\n      \"ice\"\\n    ],\\n    \"item_nest\": []\\n  }\\n]'], [[{'text': 'The Red Fox primarily feeds on small mammals such as rabbits, squirrels, and rats. It hunts its prey on the ground, using its keen senses and speed. It makes its home in burrows, where it uses leaves and plant fibres to create a cozy and safe environment.', 'generic_plant_food': [], 'generic_animal_food': ['small mammals'], 'plant_food': [], 'specific_animal_food': ['rabbits', 'squirrels', 'rats'], 'location_nest': ['burrows'], 'item_nest': ['leaves', 'plant fibres']}, {'text': 'The Kodiak Bear primarily feeds on huge mammals like elks or deer and also catches salmon in mid-air during water runoffs. It uses its robust claws to capture its prey and also to dig burrows in the woodland or mountain terrains for nesting, lined with grass for a comfortable habitat.', 'generic_plant_food': [], 'generic_animal_food': ['huge mammals'], 'plant_food': [], 'specific_animal_food': ['elks', 'deer', 'salmon'], 'location_nest': ['woodland or mountain terrains'], 'item_nest': ['grass']}, {'text': 'The Peregrine Falcon primarily feeds on birds such as pigeons, ducks, and bats. It aggressively chases its prey mid-flight, showcasing its adept hunting skills. It nests on cliffs and tall urban structures, using a lined scrape filled with a minimalistic array of gravel and dirt.', 'generic_plant_food': [], 'generic_animal_food': ['birds'], 'plant_food': [], 'specific_animal_food': ['pigeons', 'ducks', 'bats'], 'location_nest': ['cliffs', 'tall urban structures'], 'item_nest': ['gravel', 'dirt']}, {'text': 'The Brown Hyena primarily consumes meat such as that of antelopes, gazelles, and small rodents. It is a scavenger, often feeding on the remains left by other predators. It finds shelter in caves, which it lines with grass and reeds to secure a safe and comfortable living area.', 'generic_plant_food': [], 'generic_animal_food': ['meat'], 'plant_food': [], 'specific_animal_food': ['antelopes', 'gazelles', 'small rodents'], 'location_nest': ['caves'], 'item_nest': ['grass', 'reeds']}, {'text': 'The Green Sea Turtle is an omnivorous creature, primarily indulging in sea grass and algae, but also feasting on jellyfish and small invertebrates when opportunity arises. Fond of the open ocean, these turtles lay their eggs on sandy beaches, carefully hidden within the sand to protect their young.', 'generic_plant_food': ['sea grass', 'algae'], 'generic_animal_food': ['jellyfish', 'small invertebrates'], 'plant_food': ['sea grass', 'algae'], 'specific_animal_food': ['jellyfish', 'small invertebrates'], 'location_nest': ['sandy beaches'], 'item_nest': ['sand']}], [{'text': 'The Arctic Fox feeds on small mammals like lemmings, hares and birds. It captures its meal through precise and quick hunting. Its den is primarily situated in the cold tundra, making a secure home by using fur and bedding.', 'generic_plant_food': [], 'generic_animal_food': ['small mammals'], 'plant_food': [], 'specific_animal_food': ['lemmings', 'hares', 'birds'], 'location_nest': ['cold tundra'], 'item_nest': ['fur', 'bedding']}, {'text': 'The Sea Otter primarily has a diet of aquatic invertebrates such as sea urchins, crabs, and clams. It usually forages at the sea floor while swiftly swimming. Its home is made in kelp forests where it uses kelp strands and marine vegetation to create a safe shelter.', 'generic_plant_food': [], 'generic_animal_food': ['aquatic invertebrates'], 'plant_food': [], 'specific_animal_food': ['sea urchins', 'crabs', 'clams'], 'location_nest': ['kelp forests'], 'item_nest': ['kelp strands', 'marine vegetation']}, {'text': 'The Desert Lizard primarily feeds on arthropods such as spiders, scorpions, and beetles. It hunts its food while swiftly skittering across the desert sands. It nests in burrows in the desert where it uses sand and small rocks to create a secure dwelling.', 'generic_plant_food': [], 'generic_animal_food': ['arthropods'], 'plant_food': [], 'specific_animal_food': ['spiders', 'scorpions', 'beetles'], 'location_nest': ['desert burrows'], 'item_nest': ['sand', 'small rocks']}, {'text': 'The Snowy Owl primarily feeds on rodents such as lemmings, voles, and mice. It catches its prey mid-flight while nimbly flying through the brisk skies. The nest is located in high, icy plains where it uses feathers and plant material for a snug nest.', 'generic_plant_food': [], 'generic_animal_food': ['rodents'], 'plant_food': [], 'specific_animal_food': ['lemmings', 'voles', 'mice'], 'location_nest': ['icy plains'], 'item_nest': ['feathers', 'plant material']}, {'text': 'The Beach Kangaroo primarily consumes sea vegetables such as kelp, algae, and sea grapes. It searches for its food while hopping along the coastal areas. It sets its home in sand dunes where it uses beach grass and driftwood to make a cozy shelter.', 'generic_plant_food': ['sea vegetables'], 'generic_animal_food': [], 'plant_food': ['kelp', 'algae', 'sea grapes'], 'specific_animal_food': [], 'location_nest': ['sand dunes'], 'item_nest': ['beach grass', 'driftwood']}], [{'text': 'The Green Sea Turtle thrives on a diet of primarily seagrass, algae, and other marine plant life. They hunt for food in shallow ocean waters and coral reefs. Its nesting sites are typically found on secluded sandy beaches, where it uses its flippers to dig a hole and lay its eggs.', 'generic_plant_food': ['marine plant life'], 'generic_animal_food': [], 'plant_food': ['seagrass', 'algae'], 'specific_animal_food': [], 'location_nest': ['sandy beaches'], 'item_nest': ['sand']}, {'text': 'The Crimson Rosella mainly feeds on fruits, seeds, and berries from a variety of plants. They catch their food whilst perched in the tall trees of the Australian bush. They create a cozy nesting cavity in a tree trunk, using a mixture of wood chips and soil.', 'generic_plant_food': ['fruits', 'seeds', 'berries'], 'generic_animal_food': [], 'plant_food': ['gum tree seeds', 'berry fruits'], 'specific_animal_food': [], 'location_nest': ['tree trunk'], 'item_nest': ['wood chips', 'soil']}, {'text': 'The Cape Porcupine predominantly consumes roots, tubers, and bark found underground. They excavate their food in the arid regions of Southern Africa. Using sticks, rocks, and other debris, they construct a burrow in sandy soil where it spends its time when not foraging.', 'generic_plant_food': ['roots', 'tubers', 'bark'], 'generic_animal_food': [], 'plant_food': ['acacia roots', 'succulent tubers', 'baobab bark'], 'specific_animal_food': [], 'location_nest': ['sandy soil'], 'item_nest': ['sticks', 'rocks', 'debris']}, {'text': 'The Cheetah feeds primarily on small to medium-sized mammals such as gazelles and antelopes. It hunts its prey in the grasslands of Africa. Utilizing a den in an area of dense vegetation, it surrounds its nest with leaves and grass for safety and comfort.', 'generic_plant_food': [], 'generic_animal_food': ['medium-sized mammals'], 'plant_food': [], 'specific_animal_food': ['gazelles', 'antelopes'], 'location_nest': ['dense vegetation'], 'item_nest': ['leaves', 'grass']}, {'text': 'The Emperor Penguin feeds on a variety of marine life, such as fish, squid, and crustaceans, which it hunts in the frigid Antarctic waters. It nests on the ice, using its body heat and close-knit colonies to incubate their single egg.', 'generic_plant_food': [], 'generic_animal_food': ['marine life'], 'plant_food': [], 'specific_animal_food': ['fish', 'squid', 'crustaceans'], 'location_nest': ['ice'], 'item_nest': []}]])\n"
     ]
    }
   ],
   "source": [
    "import openai\n",
    "import os\n",
    "from dotenv import load_dotenv\n",
    "\n",
    "def call_api_and_save(source_json, num_calls):\n",
    "    # Load environment variables from .env file\n",
    "    load_dotenv()\n",
    "    api_key = os.getenv(\"OPENAI_API_KEY\")\n",
    "    if api_key is None:\n",
    "        raise ValueError(\"API Key must be set in the environment variables.\")\n",
    "    client = openai.OpenAI(api_key=api_key)  # Initialize the OpenAI client\n",
    "    results_list = []  # Store raw string data\n",
    "    json_results_list = []  # Store converted JSON data\n",
    "\n",
    "    for _ in range(num_calls):\n",
    "        prompt = create_prompt(source_json)\n",
    "        try:\n",
    "            response = client.chat.completions.create(\n",
    "                messages=[\n",
    "                    {\"role\": \"user\", \"content\": prompt}\n",
    "                ],\n",
    "                model=\"gpt-4\"  # Use the desired model\n",
    "            )\n",
    "            results_list.append(response.choices[0].message.content)\n",
    "            \n",
    "            # Attempt to convert string data to JSON and save\n",
    "            try:\n",
    "                json_data = json.loads(response.choices[0].message.content)\n",
    "                json_results_list.append(json_data)\n",
    "            except json.JSONDecodeError:\n",
    "                print(\"Failed to convert response to JSON.\")\n",
    "\n",
    "            # Save the raw string results\n",
    "            with open('raw_responses.json', 'w') as f:\n",
    "                json.dump(results_list, f)\n",
    "            \n",
    "            # Save the JSON-parsed results\n",
    "            with open('parsed_responses.json', 'w') as f:\n",
    "                json.dump(json_results_list, f)\n",
    "\n",
    "        except Exception as e:\n",
    "            print(f\"API call failed: {e}\")\n",
    "            break\n",
    "\n",
    "    return results_list, json_results_list\n",
    "\n",
    "\n",
    "num_calls = 3  # Number of times the user wants to send the prompt\n",
    "results = call_api_and_save(json_data, num_calls)\n",
    "print(results)"
   ]
  },
  {
   "cell_type": "code",
   "execution_count": 35,
   "metadata": {},
   "outputs": [
    {
     "data": {
      "text/plain": [
       "(['[\\n  {\\n    \"text\": \"The Red Fox primarily feeds on small mammals such as rabbits, squirrels, and rats. It hunts its prey on the ground, using its keen senses and speed. It makes its home in burrows, where it uses leaves and plant fibres to create a cozy and safe environment.\",\\n    \"generic_plant_food\": [],\\n    \"generic_animal_food\": [\\n      \"small mammals\"\\n    ],\\n    \"plant_food\": [],\\n    \"specific_animal_food\": [\\n      \"rabbits\",\\n      \"squirrels\",\\n      \"rats\"\\n    ],\\n    \"location_nest\": [\\n      \"burrows\"\\n    ],\\n    \"item_nest\": [\\n      \"leaves\",\\n      \"plant fibres\"\\n    ]\\n  },\\n  {\\n    \"text\": \"The Kodiak Bear primarily feeds on huge mammals like elks or deer and also catches salmon in mid-air during water runoffs. It uses its robust claws to capture its prey and also to dig burrows in the woodland or mountain terrains for nesting, lined with grass for a comfortable habitat.\",\\n    \"generic_plant_food\": [],\\n    \"generic_animal_food\": [\\n      \"huge mammals\"\\n    ],\\n    \"plant_food\": [],\\n    \"specific_animal_food\": [\\n      \"elks\",\\n      \"deer\",\\n      \"salmon\"\\n    ],\\n    \"location_nest\": [\\n      \"woodland or mountain terrains\"\\n    ],\\n    \"item_nest\": [\\n      \"grass\"\\n    ]\\n  },\\n  {\\n    \"text\": \"The Peregrine Falcon primarily feeds on birds such as pigeons, ducks, and bats. It aggressively chases its prey mid-flight, showcasing its adept hunting skills. It nests on cliffs and tall urban structures, using a lined scrape filled with a minimalistic array of gravel and dirt.\",\\n    \"generic_plant_food\": [],\\n    \"generic_animal_food\": [\\n      \"birds\"\\n    ],\\n    \"plant_food\": [],\\n    \"specific_animal_food\": [\\n      \"pigeons\",\\n      \"ducks\",\\n      \"bats\"\\n    ],\\n    \"location_nest\": [\\n      \"cliffs\",\\n      \"tall urban structures\"\\n    ],\\n    \"item_nest\": [\\n      \"gravel\",\\n      \"dirt\"\\n    ]\\n  },\\n  {\\n    \"text\": \"The Brown Hyena primarily consumes meat such as that of antelopes, gazelles, and small rodents. It is a scavenger, often feeding on the remains left by other predators. It finds shelter in caves, which it lines with grass and reeds to secure a safe and comfortable living area.\",\\n    \"generic_plant_food\": [],\\n    \"generic_animal_food\": [\\n      \"meat\"\\n    ],\\n    \"plant_food\": [],\\n    \"specific_animal_food\": [\\n      \"antelopes\",\\n      \"gazelles\",\\n      \"small rodents\"\\n    ],\\n    \"location_nest\": [\\n      \"caves\"\\n    ],\\n    \"item_nest\": [\\n      \"grass\",\\n      \"reeds\"\\n    ]\\n  },\\n  {\\n    \"text\": \"The Green Sea Turtle is an omnivorous creature, primarily indulging in sea grass and algae, but also feasting on jellyfish and small invertebrates when opportunity arises. Fond of the open ocean, these turtles lay their eggs on sandy beaches, carefully hidden within the sand to protect their young.\",\\n    \"generic_plant_food\": [\\n      \"sea grass\",\\n      \"algae\"\\n    ],\\n    \"generic_animal_food\": [\\n      \"jellyfish\",\\n      \"small invertebrates\"\\n    ],\\n    \"plant_food\": [\\n      \"sea grass\",\\n      \"algae\"\\n    ],\\n    \"specific_animal_food\": [\\n      \"jellyfish\",\\n      \"small invertebrates\"\\n    ],\\n    \"location_nest\": [\\n      \"sandy beaches\"\\n    ],\\n    \"item_nest\": [\\n      \"sand\"\\n    ]\\n  }\\n]',\n",
       "  '[\\n  {\\n    \"text\": \"The Arctic Fox feeds on small mammals like lemmings, hares and birds. It captures its meal through precise and quick hunting. Its den is primarily situated in the cold tundra, making a secure home by using fur and bedding.\",\\n    \"generic_plant_food\": [],\\n    \"generic_animal_food\": [\\n      \"small mammals\"\\n    ],\\n    \"plant_food\": [],\\n    \"specific_animal_food\": [\\n      \"lemmings\",\\n      \"hares\",\\n      \"birds\"\\n    ],\\n    \"location_nest\": [\\n      \"cold tundra\"\\n    ],\\n    \"item_nest\": [\\n      \"fur\",\\n      \"bedding\"\\n    ]\\n  },\\n  {\\n    \"text\": \"The Sea Otter primarily has a diet of aquatic invertebrates such as sea urchins, crabs, and clams. It usually forages at the sea floor while swiftly swimming. Its home is made in kelp forests where it uses kelp strands and marine vegetation to create a safe shelter.\",\\n    \"generic_plant_food\": [],\\n    \"generic_animal_food\": [\\n      \"aquatic invertebrates\"\\n    ],\\n    \"plant_food\": [],\\n    \"specific_animal_food\": [\\n      \"sea urchins\",\\n      \"crabs\",\\n      \"clams\"\\n    ],\\n    \"location_nest\": [\\n      \"kelp forests\"\\n    ],\\n    \"item_nest\": [\\n      \"kelp strands\",\\n      \"marine vegetation\"\\n    ]\\n   },\\n  {\\n    \"text\": \"The Desert Lizard primarily feeds on arthropods such as spiders, scorpions, and beetles. It hunts its food while swiftly skittering across the desert sands. It nests in burrows in the desert where it uses sand and small rocks to create a secure dwelling.\",\\n    \"generic_plant_food\": [],\\n    \"generic_animal_food\": [\\n      \"arthropods\"\\n    ],\\n    \"plant_food\": [],\\n    \"specific_animal_food\": [\\n      \"spiders\",\\n      \"scorpions\",\\n      \"beetles\"\\n    ],\\n    \"location_nest\": [\\n      \"desert burrows\"\\n    ],\\n    \"item_nest\": [\\n      \"sand\",\\n      \"small rocks\"\\n    ]\\n  },\\n  {\\n    \"text\": \"The Snowy Owl primarily feeds on rodents such as lemmings, voles, and mice. It catches its prey mid-flight while nimbly flying through the brisk skies. The nest is located in high, icy plains where it uses feathers and plant material for a snug nest.\",\\n    \"generic_plant_food\": [],\\n    \"generic_animal_food\": [\\n      \"rodents\"\\n    ],\\n    \"plant_food\": [],\\n    \"specific_animal_food\": [\\n      \"lemmings\",\\n      \"voles\",\\n      \"mice\"\\n    ],\\n    \"location_nest\": [\\n      \"icy plains\"\\n    ],\\n    \"item_nest\": [\\n      \"feathers\",\\n      \"plant material\"\\n    ]\\n  },\\n  {\\n    \"text\": \"The Beach Kangaroo primarily consumes sea vegetables such as kelp, algae, and sea grapes. It searches for its food while hopping along the coastal areas. It sets its home in sand dunes where it uses beach grass and driftwood to make a cozy shelter.\",\\n    \"generic_plant_food\": [\\n      \"sea vegetables\"\\n    ],\\n    \"generic_animal_food\": [],\\n    \"plant_food\": [\\n      \"kelp\",\\n      \"algae\",\\n      \"sea grapes\"\\n    ],\\n    \"specific_animal_food\": [],\\n    \"location_nest\": [\\n      \"sand dunes\"\\n    ],\\n    \"item_nest\": [\\n      \"beach grass\",\\n      \"driftwood\"\\n    ]\\n  }\\n]',\n",
       "  '[\\n  {\\n    \"text\": \"The Green Sea Turtle thrives on a diet of primarily seagrass, algae, and other marine plant life. They hunt for food in shallow ocean waters and coral reefs. Its nesting sites are typically found on secluded sandy beaches, where it uses its flippers to dig a hole and lay its eggs.\",\\n    \"generic_plant_food\": [\\n      \"marine plant life\"\\n    ],\\n    \"generic_animal_food\": [],\\n    \"plant_food\": [\\n      \"seagrass\",\\n      \"algae\"\\n    ],\\n    \"specific_animal_food\": [],\\n    \"location_nest\": [\\n      \"sandy beaches\"\\n    ],\\n    \"item_nest\": [\\n      \"sand\"\\n    ]\\n  },\\n  {\\n    \"text\": \"The Crimson Rosella mainly feeds on fruits, seeds, and berries from a variety of plants. They catch their food whilst perched in the tall trees of the Australian bush. They create a cozy nesting cavity in a tree trunk, using a mixture of wood chips and soil.\",\\n    \"generic_plant_food\": [\\n      \"fruits\",\\n      \"seeds\",\\n      \"berries\"\\n    ],\\n    \"generic_animal_food\": [],\\n    \"plant_food\": [\\n      \"gum tree seeds\",\\n      \"berry fruits\"\\n    ],\\n    \"specific_animal_food\": [],\\n    \"location_nest\": [\\n      \"tree trunk\"\\n    ],\\n    \"item_nest\": [\\n      \"wood chips\",\\n      \"soil\"\\n    ]\\n  },\\n  {\\n    \"text\": \"The Cape Porcupine predominantly consumes roots, tubers, and bark found underground. They excavate their food in the arid regions of Southern Africa. Using sticks, rocks, and other debris, they construct a burrow in sandy soil where it spends its time when not foraging.\",\\n    \"generic_plant_food\": [\\n      \"roots\",\\n      \"tubers\",\\n      \"bark\"\\n    ],\\n    \"generic_animal_food\": [],\\n    \"plant_food\": [\\n      \"acacia roots\",\\n      \"succulent tubers\",\\n      \"baobab bark\"\\n    ],\\n    \"specific_animal_food\": [],\\n    \"location_nest\": [\\n      \"sandy soil\"\\n    ],\\n    \"item_nest\": [\\n      \"sticks\",\\n      \"rocks\",\\n      \"debris\"\\n    ]\\n  },\\n  {\\n    \"text\": \"The Cheetah feeds primarily on small to medium-sized mammals such as gazelles and antelopes. It hunts its prey in the grasslands of Africa. Utilizing a den in an area of dense vegetation, it surrounds its nest with leaves and grass for safety and comfort.\",\\n    \"generic_plant_food\": [],\\n    \"generic_animal_food\": [\\n      \"medium-sized mammals\"\\n    ],\\n    \"plant_food\": [],\\n    \"specific_animal_food\": [\\n      \"gazelles\",\\n      \"antelopes\"\\n    ],\\n    \"location_nest\": [\\n      \"dense vegetation\"\\n    ],\\n    \"item_nest\": [\\n      \"leaves\",\\n      \"grass\"\\n    ]\\n  },\\n  {\\n    \"text\": \"The Emperor Penguin feeds on a variety of marine life, such as fish, squid, and crustaceans, which it hunts in the frigid Antarctic waters. It nests on the ice, using its body heat and close-knit colonies to incubate their single egg.\",\\n    \"generic_plant_food\": [],\\n    \"generic_animal_food\": [\\n      \"marine life\"\\n    ],\\n    \"plant_food\": [],\\n    \"specific_animal_food\": [\\n      \"fish\",\\n      \"squid\",\\n      \"crustaceans\"\\n    ],\\n    \"location_nest\": [\\n      \"ice\"\\n    ],\\n    \"item_nest\": []\\n  }\\n]'],\n",
       " [[{'text': 'The Red Fox primarily feeds on small mammals such as rabbits, squirrels, and rats. It hunts its prey on the ground, using its keen senses and speed. It makes its home in burrows, where it uses leaves and plant fibres to create a cozy and safe environment.',\n",
       "    'generic_plant_food': [],\n",
       "    'generic_animal_food': ['small mammals'],\n",
       "    'plant_food': [],\n",
       "    'specific_animal_food': ['rabbits', 'squirrels', 'rats'],\n",
       "    'location_nest': ['burrows'],\n",
       "    'item_nest': ['leaves', 'plant fibres']},\n",
       "   {'text': 'The Kodiak Bear primarily feeds on huge mammals like elks or deer and also catches salmon in mid-air during water runoffs. It uses its robust claws to capture its prey and also to dig burrows in the woodland or mountain terrains for nesting, lined with grass for a comfortable habitat.',\n",
       "    'generic_plant_food': [],\n",
       "    'generic_animal_food': ['huge mammals'],\n",
       "    'plant_food': [],\n",
       "    'specific_animal_food': ['elks', 'deer', 'salmon'],\n",
       "    'location_nest': ['woodland or mountain terrains'],\n",
       "    'item_nest': ['grass']},\n",
       "   {'text': 'The Peregrine Falcon primarily feeds on birds such as pigeons, ducks, and bats. It aggressively chases its prey mid-flight, showcasing its adept hunting skills. It nests on cliffs and tall urban structures, using a lined scrape filled with a minimalistic array of gravel and dirt.',\n",
       "    'generic_plant_food': [],\n",
       "    'generic_animal_food': ['birds'],\n",
       "    'plant_food': [],\n",
       "    'specific_animal_food': ['pigeons', 'ducks', 'bats'],\n",
       "    'location_nest': ['cliffs', 'tall urban structures'],\n",
       "    'item_nest': ['gravel', 'dirt']},\n",
       "   {'text': 'The Brown Hyena primarily consumes meat such as that of antelopes, gazelles, and small rodents. It is a scavenger, often feeding on the remains left by other predators. It finds shelter in caves, which it lines with grass and reeds to secure a safe and comfortable living area.',\n",
       "    'generic_plant_food': [],\n",
       "    'generic_animal_food': ['meat'],\n",
       "    'plant_food': [],\n",
       "    'specific_animal_food': ['antelopes', 'gazelles', 'small rodents'],\n",
       "    'location_nest': ['caves'],\n",
       "    'item_nest': ['grass', 'reeds']},\n",
       "   {'text': 'The Green Sea Turtle is an omnivorous creature, primarily indulging in sea grass and algae, but also feasting on jellyfish and small invertebrates when opportunity arises. Fond of the open ocean, these turtles lay their eggs on sandy beaches, carefully hidden within the sand to protect their young.',\n",
       "    'generic_plant_food': ['sea grass', 'algae'],\n",
       "    'generic_animal_food': ['jellyfish', 'small invertebrates'],\n",
       "    'plant_food': ['sea grass', 'algae'],\n",
       "    'specific_animal_food': ['jellyfish', 'small invertebrates'],\n",
       "    'location_nest': ['sandy beaches'],\n",
       "    'item_nest': ['sand']}],\n",
       "  [{'text': 'The Arctic Fox feeds on small mammals like lemmings, hares and birds. It captures its meal through precise and quick hunting. Its den is primarily situated in the cold tundra, making a secure home by using fur and bedding.',\n",
       "    'generic_plant_food': [],\n",
       "    'generic_animal_food': ['small mammals'],\n",
       "    'plant_food': [],\n",
       "    'specific_animal_food': ['lemmings', 'hares', 'birds'],\n",
       "    'location_nest': ['cold tundra'],\n",
       "    'item_nest': ['fur', 'bedding']},\n",
       "   {'text': 'The Sea Otter primarily has a diet of aquatic invertebrates such as sea urchins, crabs, and clams. It usually forages at the sea floor while swiftly swimming. Its home is made in kelp forests where it uses kelp strands and marine vegetation to create a safe shelter.',\n",
       "    'generic_plant_food': [],\n",
       "    'generic_animal_food': ['aquatic invertebrates'],\n",
       "    'plant_food': [],\n",
       "    'specific_animal_food': ['sea urchins', 'crabs', 'clams'],\n",
       "    'location_nest': ['kelp forests'],\n",
       "    'item_nest': ['kelp strands', 'marine vegetation']},\n",
       "   {'text': 'The Desert Lizard primarily feeds on arthropods such as spiders, scorpions, and beetles. It hunts its food while swiftly skittering across the desert sands. It nests in burrows in the desert where it uses sand and small rocks to create a secure dwelling.',\n",
       "    'generic_plant_food': [],\n",
       "    'generic_animal_food': ['arthropods'],\n",
       "    'plant_food': [],\n",
       "    'specific_animal_food': ['spiders', 'scorpions', 'beetles'],\n",
       "    'location_nest': ['desert burrows'],\n",
       "    'item_nest': ['sand', 'small rocks']},\n",
       "   {'text': 'The Snowy Owl primarily feeds on rodents such as lemmings, voles, and mice. It catches its prey mid-flight while nimbly flying through the brisk skies. The nest is located in high, icy plains where it uses feathers and plant material for a snug nest.',\n",
       "    'generic_plant_food': [],\n",
       "    'generic_animal_food': ['rodents'],\n",
       "    'plant_food': [],\n",
       "    'specific_animal_food': ['lemmings', 'voles', 'mice'],\n",
       "    'location_nest': ['icy plains'],\n",
       "    'item_nest': ['feathers', 'plant material']},\n",
       "   {'text': 'The Beach Kangaroo primarily consumes sea vegetables such as kelp, algae, and sea grapes. It searches for its food while hopping along the coastal areas. It sets its home in sand dunes where it uses beach grass and driftwood to make a cozy shelter.',\n",
       "    'generic_plant_food': ['sea vegetables'],\n",
       "    'generic_animal_food': [],\n",
       "    'plant_food': ['kelp', 'algae', 'sea grapes'],\n",
       "    'specific_animal_food': [],\n",
       "    'location_nest': ['sand dunes'],\n",
       "    'item_nest': ['beach grass', 'driftwood']}],\n",
       "  [{'text': 'The Green Sea Turtle thrives on a diet of primarily seagrass, algae, and other marine plant life. They hunt for food in shallow ocean waters and coral reefs. Its nesting sites are typically found on secluded sandy beaches, where it uses its flippers to dig a hole and lay its eggs.',\n",
       "    'generic_plant_food': ['marine plant life'],\n",
       "    'generic_animal_food': [],\n",
       "    'plant_food': ['seagrass', 'algae'],\n",
       "    'specific_animal_food': [],\n",
       "    'location_nest': ['sandy beaches'],\n",
       "    'item_nest': ['sand']},\n",
       "   {'text': 'The Crimson Rosella mainly feeds on fruits, seeds, and berries from a variety of plants. They catch their food whilst perched in the tall trees of the Australian bush. They create a cozy nesting cavity in a tree trunk, using a mixture of wood chips and soil.',\n",
       "    'generic_plant_food': ['fruits', 'seeds', 'berries'],\n",
       "    'generic_animal_food': [],\n",
       "    'plant_food': ['gum tree seeds', 'berry fruits'],\n",
       "    'specific_animal_food': [],\n",
       "    'location_nest': ['tree trunk'],\n",
       "    'item_nest': ['wood chips', 'soil']},\n",
       "   {'text': 'The Cape Porcupine predominantly consumes roots, tubers, and bark found underground. They excavate their food in the arid regions of Southern Africa. Using sticks, rocks, and other debris, they construct a burrow in sandy soil where it spends its time when not foraging.',\n",
       "    'generic_plant_food': ['roots', 'tubers', 'bark'],\n",
       "    'generic_animal_food': [],\n",
       "    'plant_food': ['acacia roots', 'succulent tubers', 'baobab bark'],\n",
       "    'specific_animal_food': [],\n",
       "    'location_nest': ['sandy soil'],\n",
       "    'item_nest': ['sticks', 'rocks', 'debris']},\n",
       "   {'text': 'The Cheetah feeds primarily on small to medium-sized mammals such as gazelles and antelopes. It hunts its prey in the grasslands of Africa. Utilizing a den in an area of dense vegetation, it surrounds its nest with leaves and grass for safety and comfort.',\n",
       "    'generic_plant_food': [],\n",
       "    'generic_animal_food': ['medium-sized mammals'],\n",
       "    'plant_food': [],\n",
       "    'specific_animal_food': ['gazelles', 'antelopes'],\n",
       "    'location_nest': ['dense vegetation'],\n",
       "    'item_nest': ['leaves', 'grass']},\n",
       "   {'text': 'The Emperor Penguin feeds on a variety of marine life, such as fish, squid, and crustaceans, which it hunts in the frigid Antarctic waters. It nests on the ice, using its body heat and close-knit colonies to incubate their single egg.',\n",
       "    'generic_plant_food': [],\n",
       "    'generic_animal_food': ['marine life'],\n",
       "    'plant_food': [],\n",
       "    'specific_animal_food': ['fish', 'squid', 'crustaceans'],\n",
       "    'location_nest': ['ice'],\n",
       "    'item_nest': []}]])"
      ]
     },
     "execution_count": 35,
     "metadata": {},
     "output_type": "execute_result"
    }
   ],
   "source": [
    "results"
   ]
  },
  {
   "cell_type": "code",
   "execution_count": 28,
   "metadata": {},
   "outputs": [
    {
     "data": {
      "text/plain": [
       "ChatCompletion(id='chatcmpl-9DSs7Gluh6IYlnzugOVOPHp7Q33uN', choices=[Choice(finish_reason='stop', index=0, logprobs=None, message=ChatCompletionMessage(content='[\\n  {\\n    \"text\": \"The Osprey is a dominant bird of prey, feeding extensively on fish. It descends from the air, often quite dramatically, to snatch its prey from water bodies. It builds elaborate nests in tall trees and cliffs using twigs and seaweed.\",\\n    \"generic_plant_food\": [],\\n    \"generic_animal_food\": [\\n      \"fish\"\\n    ],\\n    \"plant_food\": [],\\n    \"specific_animal_food\": [\\n      \"salmon\",\\n      \"trout\",\\n      \"catfish\"\\n    ],\\n    \"location_nest\": [\\n      \"tall trees\",\\n      \"cliffs\"\\n    ],\\n    \"item_nest\": [\\n      \"twigs\",\\n      \"seaweed\"\\n    ]\\n  },\\n  {\\n    \"text\": \"The Nighthawk feeds on small insects and moths, which it catches during its nocturnal hunts. It constructs a simple nest on the ground, deriving protection by remaining inconspicuous among stones and leaves.\",\\n    \"generic_plant_food\": [],\\n    \"generic_animal_food\": [\\n      \"small insects\"\\n    ],\\n    \"plant_food\": [],\\n    \"specific_animal_food\": [\\n      \"moths\",\\n      \"gnats\",\\n      \"mosquitoes\"\\n    ],\\n    \"location_nest\": [\\n      \"ground\"\\n    ],\\n    \"item_nest\": [\\n      \"stones\",\\n      \"leaves\"\\n    ]\\n  },\\n  {\\n    \"text\": \"With its notoriously combative disposition, the Mantis Shrimp chiefly sustains itself on hard-shelled creatures. It skillfully cracks open its prey using a powerful strike. Its burrowed holes in seafloor sediment serve as its homely abode.\",\\n    \"generic_plant_food\": [],\\n    \"generic_animal_food\": [\\n      \"hard-shelled creatures\"\\n    ],\\n    \"plant_food\": [],\\n    \"specific_animal_food\": [\\n      \"crabs\",\\n      \"clams\",\\n      \"snails\"\\n    ],\\n    \"location_nest\": [\\n      \"seafloor sediment\"\\n    ],\\n    \"item_nest\": []\\n  },\\n  {\\n    \"text\": \"The Komodo Dragon, the largest living lizard, mostly eats carrion but will also hunt and ambush prey. It can eat 80% of its body weight in one feeding. It digs holes or uses physically suitable places on the islands as nests.\",\\n    \"generic_plant_food\": [],\\n    \"generic_animal_food\": [\\n      \"carrion\"\\n    ],\\n    \"plant_food\": [],\\n    \"specific_animal_food\": [\\n      \"deer\",\\n      \"pigs\",\\n      \"water buffalo\"\\n    ],\\n    \"location_nest\": [\\n      \"holes\",\\n      \"suitable places on islands\"\\n    ],\\n    \"item_nest\": []\\n  },\\n  {\\n    \"text\": \"The American Red Squirrel is primarily herbivorous, with an omnivorous lean. It chiefly feasts on the seeds of trees, and will also eat bird eggs or fledglings when available. It makes nests, called dreys, in the forks of trees with moss and twigs.\",\\n    \"generic_plant_food\": [\\n      \"seeds\"\\n    ],\\n    \"generic_animal_food\": [\\n      \"bird eggs\"\\n    ],\\n    \"plant_food\": [\\n      \"conifer seeds\"\\n    ],\\n    \"specific_animal_food\": [\\n      \"sparrow eggs\",\\n      \"robin fledglings\"\\n    ],\\n    \"location_nest\": [\\n      \"forks of trees\"\\n    ],\\n    \"item_nest\": [\\n      \"moss\",\\n      \"twigs\"\\n    ]\\n  }\\n]', role='assistant', function_call=None, tool_calls=None))], created=1712996275, model='gpt-4-0613', object='chat.completion', system_fingerprint=None, usage=CompletionUsage(completion_tokens=746, prompt_tokens=230, total_tokens=976))"
      ]
     },
     "execution_count": 28,
     "metadata": {},
     "output_type": "execute_result"
    }
   ],
   "source": [
    "results[0]"
   ]
  },
  {
   "cell_type": "code",
   "execution_count": 29,
   "metadata": {},
   "outputs": [
    {
     "ename": "AttributeError",
     "evalue": "'ChatCompletion' object has no attribute 'message'",
     "output_type": "error",
     "traceback": [
      "\u001b[0;31m---------------------------------------------------------------------------\u001b[0m",
      "\u001b[0;31mKeyError\u001b[0m                                  Traceback (most recent call last)",
      "File \u001b[0;32m/Applications/anaconda3/envs/gliner-spacy/lib/python3.10/site-packages/pydantic/main.py:759\u001b[0m, in \u001b[0;36mBaseModel.__getattr__\u001b[0;34m(self, item)\u001b[0m\n\u001b[1;32m    758\u001b[0m \u001b[39mtry\u001b[39;00m:\n\u001b[0;32m--> 759\u001b[0m     \u001b[39mreturn\u001b[39;00m pydantic_extra[item]\n\u001b[1;32m    760\u001b[0m \u001b[39mexcept\u001b[39;00m \u001b[39mKeyError\u001b[39;00m \u001b[39mas\u001b[39;00m exc:\n",
      "\u001b[0;31mKeyError\u001b[0m: 'message'",
      "\nThe above exception was the direct cause of the following exception:\n",
      "\u001b[0;31mAttributeError\u001b[0m                            Traceback (most recent call last)",
      "\u001b[1;32m/Users/wjbmattingly/projects/gliner-training/testing.ipynb Cell 8\u001b[0m line \u001b[0;36m1\n\u001b[0;32m----> <a href='vscode-notebook-cell:/Users/wjbmattingly/projects/gliner-training/testing.ipynb#X10sZmlsZQ%3D%3D?line=0'>1</a>\u001b[0m results[\u001b[39m0\u001b[39;49m]\u001b[39m.\u001b[39;49mmessage\n",
      "File \u001b[0;32m/Applications/anaconda3/envs/gliner-spacy/lib/python3.10/site-packages/pydantic/main.py:761\u001b[0m, in \u001b[0;36mBaseModel.__getattr__\u001b[0;34m(self, item)\u001b[0m\n\u001b[1;32m    759\u001b[0m         \u001b[39mreturn\u001b[39;00m pydantic_extra[item]\n\u001b[1;32m    760\u001b[0m     \u001b[39mexcept\u001b[39;00m \u001b[39mKeyError\u001b[39;00m \u001b[39mas\u001b[39;00m exc:\n\u001b[0;32m--> 761\u001b[0m         \u001b[39mraise\u001b[39;00m \u001b[39mAttributeError\u001b[39;00m(\u001b[39mf\u001b[39m\u001b[39m'\u001b[39m\u001b[39m{\u001b[39;00m\u001b[39mtype\u001b[39m(\u001b[39mself\u001b[39m)\u001b[39m.\u001b[39m\u001b[39m__name__\u001b[39m\u001b[39m!r}\u001b[39;00m\u001b[39m object has no attribute \u001b[39m\u001b[39m{\u001b[39;00mitem\u001b[39m!r}\u001b[39;00m\u001b[39m'\u001b[39m) \u001b[39mfrom\u001b[39;00m \u001b[39mexc\u001b[39;00m\n\u001b[1;32m    762\u001b[0m \u001b[39melse\u001b[39;00m:\n\u001b[1;32m    763\u001b[0m     \u001b[39mif\u001b[39;00m \u001b[39mhasattr\u001b[39m(\u001b[39mself\u001b[39m\u001b[39m.\u001b[39m\u001b[39m__class__\u001b[39m, item):\n",
      "\u001b[0;31mAttributeError\u001b[0m: 'ChatCompletion' object has no attribute 'message'"
     ]
    }
   ],
   "source": [
    "results[0].message"
   ]
  },
  {
   "cell_type": "code",
   "execution_count": 30,
   "metadata": {},
   "outputs": [
    {
     "name": "stdout",
     "output_type": "stream",
     "text": [
      "[\n",
      "  {\n",
      "    \"text\": \"The Osprey is a dominant bird of prey, feeding extensively on fish. It descends from the air, often quite dramatically, to snatch its prey from water bodies. It builds elaborate nests in tall trees and cliffs using twigs and seaweed.\",\n",
      "    \"generic_plant_food\": [],\n",
      "    \"generic_animal_food\": [\n",
      "      \"fish\"\n",
      "    ],\n",
      "    \"plant_food\": [],\n",
      "    \"specific_animal_food\": [\n",
      "      \"salmon\",\n",
      "      \"trout\",\n",
      "      \"catfish\"\n",
      "    ],\n",
      "    \"location_nest\": [\n",
      "      \"tall trees\",\n",
      "      \"cliffs\"\n",
      "    ],\n",
      "    \"item_nest\": [\n",
      "      \"twigs\",\n",
      "      \"seaweed\"\n",
      "    ]\n",
      "  },\n",
      "  {\n",
      "    \"text\": \"The Nighthawk feeds on small insects and moths, which it catches during its nocturnal hunts. It constructs a simple nest on the ground, deriving protection by remaining inconspicuous among stones and leaves.\",\n",
      "    \"generic_plant_food\": [],\n",
      "    \"generic_animal_food\": [\n",
      "      \"small insects\"\n",
      "    ],\n",
      "    \"plant_food\": [],\n",
      "    \"specific_animal_food\": [\n",
      "      \"moths\",\n",
      "      \"gnats\",\n",
      "      \"mosquitoes\"\n",
      "    ],\n",
      "    \"location_nest\": [\n",
      "      \"ground\"\n",
      "    ],\n",
      "    \"item_nest\": [\n",
      "      \"stones\",\n",
      "      \"leaves\"\n",
      "    ]\n",
      "  },\n",
      "  {\n",
      "    \"text\": \"With its notoriously combative disposition, the Mantis Shrimp chiefly sustains itself on hard-shelled creatures. It skillfully cracks open its prey using a powerful strike. Its burrowed holes in seafloor sediment serve as its homely abode.\",\n",
      "    \"generic_plant_food\": [],\n",
      "    \"generic_animal_food\": [\n",
      "      \"hard-shelled creatures\"\n",
      "    ],\n",
      "    \"plant_food\": [],\n",
      "    \"specific_animal_food\": [\n",
      "      \"crabs\",\n",
      "      \"clams\",\n",
      "      \"snails\"\n",
      "    ],\n",
      "    \"location_nest\": [\n",
      "      \"seafloor sediment\"\n",
      "    ],\n",
      "    \"item_nest\": []\n",
      "  },\n",
      "  {\n",
      "    \"text\": \"The Komodo Dragon, the largest living lizard, mostly eats carrion but will also hunt and ambush prey. It can eat 80% of its body weight in one feeding. It digs holes or uses physically suitable places on the islands as nests.\",\n",
      "    \"generic_plant_food\": [],\n",
      "    \"generic_animal_food\": [\n",
      "      \"carrion\"\n",
      "    ],\n",
      "    \"plant_food\": [],\n",
      "    \"specific_animal_food\": [\n",
      "      \"deer\",\n",
      "      \"pigs\",\n",
      "      \"water buffalo\"\n",
      "    ],\n",
      "    \"location_nest\": [\n",
      "      \"holes\",\n",
      "      \"suitable places on islands\"\n",
      "    ],\n",
      "    \"item_nest\": []\n",
      "  },\n",
      "  {\n",
      "    \"text\": \"The American Red Squirrel is primarily herbivorous, with an omnivorous lean. It chiefly feasts on the seeds of trees, and will also eat bird eggs or fledglings when available. It makes nests, called dreys, in the forks of trees with moss and twigs.\",\n",
      "    \"generic_plant_food\": [\n",
      "      \"seeds\"\n",
      "    ],\n",
      "    \"generic_animal_food\": [\n",
      "      \"bird eggs\"\n",
      "    ],\n",
      "    \"plant_food\": [\n",
      "      \"conifer seeds\"\n",
      "    ],\n",
      "    \"specific_animal_food\": [\n",
      "      \"sparrow eggs\",\n",
      "      \"robin fledglings\"\n",
      "    ],\n",
      "    \"location_nest\": [\n",
      "      \"forks of trees\"\n",
      "    ],\n",
      "    \"item_nest\": [\n",
      "      \"moss\",\n",
      "      \"twigs\"\n",
      "    ]\n",
      "  }\n",
      "]\n"
     ]
    }
   ],
   "source": [
    "# Assuming 'results' is your list of ChatCompletion objects\n",
    "for completion in results:\n",
    "    for choice in completion.choices:\n",
    "        print(choice.message.content)"
   ]
  },
  {
   "cell_type": "code",
   "execution_count": null,
   "metadata": {},
   "outputs": [],
   "source": []
  }
 ],
 "metadata": {
  "kernelspec": {
   "display_name": "gliner-spacy",
   "language": "python",
   "name": "python3"
  },
  "language_info": {
   "codemirror_mode": {
    "name": "ipython",
    "version": 3
   },
   "file_extension": ".py",
   "mimetype": "text/x-python",
   "name": "python",
   "nbconvert_exporter": "python",
   "pygments_lexer": "ipython3",
   "version": "3.10.13"
  }
 },
 "nbformat": 4,
 "nbformat_minor": 2
}
